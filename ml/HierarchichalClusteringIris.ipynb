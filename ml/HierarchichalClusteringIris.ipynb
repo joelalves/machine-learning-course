{
 "cells": [
  {
   "cell_type": "code",
   "execution_count": 1,
   "metadata": {},
   "outputs": [],
   "source": [
    "import pandas as pd\n",
    "import numpy as np \n",
    "import seaborn as sns\n",
    "import matplotlib.pyplot as plt \n",
    "import seaborn as sns\n",
    "from sklearn import datasets\n",
    "from sklearn.cluster import AgglomerativeClustering  "
   ]
  },
  {
   "cell_type": "code",
   "execution_count": 2,
   "metadata": {},
   "outputs": [],
   "source": [
    "iris = datasets.load_iris()\n",
    "X = iris.data[:,:2]\n",
    "y = iris.target"
   ]
  },
  {
   "cell_type": "markdown",
   "metadata": {},
   "source": [
    "# DENDROGRAMA \n",
    "\n",
    "Nos sirve para visualizar y elegir el corte posterior"
   ]
  },
  {
   "cell_type": "code",
   "execution_count": 3,
   "metadata": {},
   "outputs": [
    {
     "name": "stdout",
     "output_type": "stream",
     "text": [
      "[[0.         0.53851648 0.5        ... 1.48660687 1.1045361  0.94339811]\n",
      " [0.53851648 0.         0.28284271 ... 1.6        1.36014705 1.        ]\n",
      " [0.5        0.28284271 0.         ... 1.81107703 1.5132746  1.21655251]\n",
      " ...\n",
      " [1.48660687 1.6        1.81107703 ... 0.         0.5        0.6       ]\n",
      " [1.1045361  1.36014705 1.5132746  ... 0.5        0.         0.5       ]\n",
      " [0.94339811 1.         1.21655251 ... 0.6        0.5        0.        ]] (150, 150)\n"
     ]
    }
   ],
   "source": [
    "from scipy.spatial import distance_matrix \n",
    "dist_matrix = distance_matrix(X,X) \n",
    "print(dist_matrix, dist_matrix.shape)"
   ]
  },
  {
   "cell_type": "code",
   "execution_count": 4,
   "metadata": {},
   "outputs": [],
   "source": [
    "from scipy.cluster import hierarchy \n",
    "from scipy.cluster.hierarchy import ClusterWarning\n",
    "from warnings import simplefilter\n",
    "simplefilter(\"ignore\", ClusterWarning)\n",
    "Z = hierarchy.linkage(dist_matrix, 'complete')"
   ]
  },
  {
   "cell_type": "code",
   "execution_count": 13,
   "metadata": {},
   "outputs": [
    {
     "data": {
      "text/plain": [
       "array([[  0.        ,  17.        ,   0.        ,   2.        ],\n",
       "       [  9.        ,  34.        ,   0.        ,   2.        ],\n",
       "       [  2.        ,  29.        ,   0.        ,   2.        ],\n",
       "       [ 40.        ,  43.        ,   0.        ,   2.        ],\n",
       "       [  7.        ,  26.        ,   0.        ,   2.        ],\n",
       "       [  5.        ,  16.        ,   0.        ,   2.        ],\n",
       "       [ 11.        ,  24.        ,   0.        ,   2.        ],\n",
       "       [ 12.        ,  45.        ,   0.        ,   2.        ],\n",
       "       [ 19.        ,  44.        ,   0.        ,   2.        ],\n",
       "       [ 46.        , 158.        ,   0.        ,   3.        ],\n",
       "       [ 20.        ,  31.        ,   0.        ,   2.        ],\n",
       "       [ 66.        ,  88.        ,   0.        ,   2.        ],\n",
       "       [ 55.        ,  99.        ,   0.        ,   2.        ],\n",
       "       [ 67.        ,  82.        ,   0.        ,   2.        ],\n",
       "       [101.        , 163.        ,   0.        ,   3.        ],\n",
       "       [142.        , 164.        ,   0.        ,   4.        ],\n",
       "       [ 61.        , 149.        ,   0.        ,   2.        ],\n",
       "       [ 91.        , 127.        ,   0.        ,   2.        ],\n",
       "       [ 56.        , 100.        ,   0.        ,   2.        ],\n",
       "       [ 80.        ,  81.        ,   0.        ,   2.        ],\n",
       "       [ 71.        ,  73.        ,   0.        ,   2.        ],\n",
       "       [ 62.        , 119.        ,   0.        ,   2.        ],\n",
       "       [ 52.        , 139.        ,   0.        ,   2.        ],\n",
       "       [141.        , 172.        ,   0.        ,   3.        ],\n",
       "       [ 51.        , 115.        ,   0.        ,   2.        ],\n",
       "       [128.        , 132.        ,   0.        ,   2.        ],\n",
       "       [ 65.        ,  86.        ,   0.        ,   2.        ],\n",
       "       [ 72.        , 146.        ,   0.        ,   2.        ],\n",
       "       [104.        , 116.        ,   0.        ,   2.        ],\n",
       "       [147.        , 178.        ,   0.        ,   3.        ],\n",
       "       [ 77.        , 145.        ,   0.        ,   2.        ],\n",
       "       [140.        , 176.        ,   0.        ,   3.        ],\n",
       "       [124.        , 144.        ,   0.        ,   2.        ],\n",
       "       [  8.        ,  38.        ,   0.51748554,   2.        ],\n",
       "       [120.        , 173.        ,   0.52598536,   4.        ],\n",
       "       [  3.        ,  47.        ,   0.55588636,   2.        ],\n",
       "       [180.        , 181.        ,   0.57090011,   5.        ],\n",
       "       [ 58.        ,  75.        ,   0.58689022,   2.        ],\n",
       "       [ 30.        , 157.        ,   0.64016253,   3.        ],\n",
       "       [103.        , 133.        ,   0.6497962 ,   2.        ],\n",
       "       [ 74.        , 175.        ,   0.6532177 ,   3.        ],\n",
       "       [ 97.        , 126.        ,   0.65430962,   2.        ],\n",
       "       [ 63.        , 167.        ,   0.66448105,   3.        ],\n",
       "       [ 78.        , 138.        ,   0.66495123,   2.        ],\n",
       "       [  1.        , 151.        ,   0.66685603,   3.        ],\n",
       "       [137.        , 174.        ,   0.67021944,   3.        ],\n",
       "       [ 95.        ,  96.        ,   0.70519898,   2.        ],\n",
       "       [ 35.        ,  49.        ,   0.70827092,   2.        ],\n",
       "       [ 64.        , 161.        ,   0.70875456,   3.        ],\n",
       "       [122.        , 135.        ,   0.71741396,   2.        ],\n",
       "       [ 23.        ,  39.        ,   0.72940049,   2.        ],\n",
       "       [ 94.        , 121.        ,   0.73404198,   2.        ],\n",
       "       [114.        , 165.        ,   0.73491425,   5.        ],\n",
       "       [153.        , 154.        ,   0.74609674,   4.        ],\n",
       "       [ 27.        ,  28.        ,   0.75075625,   2.        ],\n",
       "       [136.        , 168.        ,   0.7539799 ,   3.        ],\n",
       "       [ 57.        , 106.        ,   0.77221267,   2.        ],\n",
       "       [ 89.        ,  90.        ,   0.79566387,   2.        ],\n",
       "       [ 79.        , 113.        ,   0.81197957,   2.        ],\n",
       "       [125.        , 129.        ,   0.84988166,   2.        ],\n",
       "       [ 21.        , 159.        ,   0.87369081,   4.        ],\n",
       "       [ 10.        ,  48.        ,   0.88114177,   2.        ],\n",
       "       [ 53.        , 169.        ,   0.8838147 ,   3.        ],\n",
       "       [  4.        ,  37.        ,   0.94768757,   2.        ],\n",
       "       [111.        , 123.        ,   0.99294367,   2.        ],\n",
       "       [112.        , 143.        ,   1.0312618 ,   2.        ],\n",
       "       [ 36.        , 160.        ,   1.04802162,   3.        ],\n",
       "       [150.        , 203.        ,   1.05254253,   6.        ],\n",
       "       [ 68.        ,  87.        ,   1.06316417,   2.        ],\n",
       "       [ 13.        , 183.        ,   1.12953008,   3.        ],\n",
       "       [ 69.        , 207.        ,   1.13649632,   3.        ],\n",
       "       [152.        , 185.        ,   1.19159915,   4.        ],\n",
       "       [170.        , 191.        ,   1.20155987,   4.        ],\n",
       "       [179.        , 187.        ,   1.20350313,   5.        ],\n",
       "       [162.        , 201.        ,   1.21245542,   4.        ],\n",
       "       [148.        , 205.        ,   1.21926776,   4.        ],\n",
       "       [ 54.        , 190.        ,   1.22448854,   4.        ],\n",
       "       [188.        , 194.        ,   1.24012866,   6.        ],\n",
       "       [192.        , 193.        ,   1.24575497,   5.        ],\n",
       "       [ 92.        , 208.        ,   1.25858126,   3.        ],\n",
       "       [ 83.        , 134.        ,   1.26042607,   2.        ],\n",
       "       [110.        , 195.        ,   1.26113703,   4.        ],\n",
       "       [  6.        ,  22.        ,   1.26561842,   2.        ],\n",
       "       [196.        , 198.        ,   1.32014184,   5.        ],\n",
       "       [ 50.        , 184.        ,   1.32755426,   5.        ],\n",
       "       [107.        , 130.        ,   1.35179563,   2.        ],\n",
       "       [ 70.        , 166.        ,   1.40897871,   3.        ],\n",
       "       [ 42.        , 219.        ,   1.4706056 ,   4.        ],\n",
       "       [118.        , 199.        ,   1.47975267,   3.        ],\n",
       "       [ 93.        , 206.        ,   1.48317047,   3.        ],\n",
       "       [200.        , 204.        ,   1.50116342,   4.        ],\n",
       "       [102.        , 209.        ,   1.50995209,   3.        ],\n",
       "       [186.        , 215.        ,   1.6421483 ,   7.        ],\n",
       "       [177.        , 214.        ,   1.66686127,   4.        ],\n",
       "       [182.        , 242.        ,   1.74729731,   9.        ],\n",
       "       [155.        , 211.        ,   1.79092481,   4.        ],\n",
       "       [210.        , 213.        ,   1.91119437,   6.        ],\n",
       "       [ 76.        , 108.        ,   1.91552033,   2.        ],\n",
       "       [ 59.        ,  98.        ,   1.92296797,   2.        ],\n",
       "       [ 14.        ,  18.        ,   1.97164537,   2.        ],\n",
       "       [ 25.        , 197.        ,   2.01973476,   3.        ],\n",
       "       [ 32.        ,  33.        ,   2.06151682,   2.        ],\n",
       "       [202.        , 224.        ,   2.09839465,   9.        ],\n",
       "       [189.        , 222.        ,   2.13072819,   6.        ],\n",
       "       [117.        , 131.        ,   2.17783306,   2.        ],\n",
       "       [105.        , 238.        ,   2.23655028,   4.        ],\n",
       "       [217.        , 240.        ,   2.23691939,  10.        ],\n",
       "       [171.        , 218.        ,   2.39589472,   4.        ],\n",
       "       [229.        , 252.        ,   2.42658199,  12.        ],\n",
       "       [223.        , 226.        ,   2.43002488,   9.        ],\n",
       "       [212.        , 220.        ,   2.45578361,   6.        ],\n",
       "       [156.        , 221.        ,   2.49693579,   6.        ],\n",
       "       [231.        , 259.        ,   2.59539029,  13.        ],\n",
       "       [227.        , 250.        ,   2.64390665,   9.        ],\n",
       "       [228.        , 230.        ,   2.805566  ,   7.        ],\n",
       "       [ 85.        , 236.        ,   2.89597352,   4.        ],\n",
       "       [232.        , 261.        ,   2.93454032,   8.        ],\n",
       "       [243.        , 253.        ,   3.10316196,  10.        ],\n",
       "       [ 84.        , 233.        ,   3.19538036,   6.        ],\n",
       "       [109.        , 235.        ,   3.27022643,   3.        ],\n",
       "       [234.        , 241.        ,   3.51909503,   8.        ],\n",
       "       [ 41.        ,  60.        ,   3.62383914,   2.        ],\n",
       "       [246.        , 256.        ,   3.73612464,  16.        ],\n",
       "       [244.        , 247.        ,   3.86425429,  11.        ],\n",
       "       [ 15.        , 251.        ,   3.92840997,   3.        ],\n",
       "       [239.        , 248.        ,   4.06450971,   5.        ],\n",
       "       [216.        , 245.        ,   4.08961639,   7.        ],\n",
       "       [264.        , 267.        ,   4.46301005,  17.        ],\n",
       "       [225.        , 265.        ,   4.63858668,   8.        ],\n",
       "       [258.        , 268.        ,   4.7831782 ,  18.        ],\n",
       "       [263.        , 272.        ,   4.97383134,  25.        ],\n",
       "       [262.        , 273.        ,   5.00045691,  24.        ],\n",
       "       [260.        , 279.        ,   5.22303298,  24.        ],\n",
       "       [249.        , 276.        ,   5.46426672,   9.        ],\n",
       "       [237.        , 266.        ,   5.46520054,  12.        ],\n",
       "       [277.        , 278.        ,   5.71941931,  25.        ],\n",
       "       [254.        , 255.        ,   5.9152843 ,   6.        ],\n",
       "       [269.        , 270.        ,   5.96673014,  11.        ],\n",
       "       [257.        , 285.        ,   6.84118063,  29.        ],\n",
       "       [275.        , 280.        ,   7.66270368,  30.        ],\n",
       "       [271.        , 284.        ,   8.11621653,  14.        ],\n",
       "       [274.        , 283.        ,   8.67495563,  12.        ],\n",
       "       [281.        , 288.        ,   8.77703753,  53.        ],\n",
       "       [289.        , 290.        ,   9.61884546,  44.        ],\n",
       "       [291.        , 293.        ,  10.91613527,  56.        ],\n",
       "       [282.        , 292.        ,  12.23203702,  77.        ],\n",
       "       [286.        , 287.        ,  13.17091264,  17.        ],\n",
       "       [294.        , 295.        ,  17.92179551, 133.        ],\n",
       "       [296.        , 297.        ,  21.96647066, 150.        ]])"
      ]
     },
     "execution_count": 13,
     "metadata": {},
     "output_type": "execute_result"
    }
   ],
   "source": [
    "Z"
   ]
  },
  {
   "cell_type": "code",
   "execution_count": 14,
   "metadata": {},
   "outputs": [
    {
     "data": {
      "image/png": "[encoded data removed]",
      "text/plain": [
       "<Figure size 1440x720 with 1 Axes>"
      ]
     },
     "metadata": {
      "needs_background": "light"
     },
     "output_type": "display_data"
    }
   ],
   "source": [
    "plt.figure(figsize=(20,10))\n",
    "dendro = hierarchy.dendrogram(Z)\n",
    "plt.tick_params(axis='x', labelsize=8)"
   ]
  },
  {
   "cell_type": "code",
   "execution_count": 15,
   "metadata": {},
   "outputs": [
    {
     "data": {
      "text/plain": [
       "AgglomerativeClustering(linkage='average', n_clusters=3)"
      ]
     },
     "execution_count": 15,
     "metadata": {},
     "output_type": "execute_result"
    }
   ],
   "source": [
    "agglom = AgglomerativeClustering(n_clusters = 3, linkage = 'average')\n",
    "agglom.fit(X)"
   ]
  },
  {
   "cell_type": "code",
   "execution_count": 16,
   "metadata": {},
   "outputs": [
    {
     "data": {
      "text/plain": [
       "3"
      ]
     },
     "execution_count": 16,
     "metadata": {},
     "output_type": "execute_result"
    }
   ],
   "source": [
    "agglom.n_clusters_ "
   ]
  },
  {
   "cell_type": "code",
   "execution_count": 17,
   "metadata": {},
   "outputs": [
    {
     "data": {
      "text/plain": [
       "array([0, 0, 0, 0, 0, 0, 0, 0, 0, 0, 0, 0, 0, 0, 0, 0, 0, 0, 0, 0, 0, 0,\n",
       "       0, 0, 0, 0, 0, 0, 0, 0, 0, 0, 0, 0, 0, 0, 0, 0, 0, 0, 0, 0, 0, 0,\n",
       "       0, 0, 0, 0, 0, 0, 2, 2, 2, 2, 2, 2, 2, 0, 2, 0, 0, 2, 2, 2, 2, 2,\n",
       "       2, 2, 2, 2, 2, 2, 2, 2, 2, 2, 2, 2, 2, 2, 2, 2, 2, 2, 2, 2, 2, 2,\n",
       "       2, 2, 2, 2, 2, 0, 2, 2, 2, 2, 0, 2, 2, 2, 1, 2, 2, 1, 0, 1, 2, 1,\n",
       "       2, 2, 2, 2, 2, 2, 2, 1, 1, 2, 2, 2, 1, 2, 2, 1, 2, 2, 2, 1, 1, 1,\n",
       "       2, 2, 2, 1, 2, 2, 2, 2, 2, 2, 2, 2, 2, 2, 2, 2, 2, 2])"
      ]
     },
     "execution_count": 17,
     "metadata": {},
     "output_type": "execute_result"
    }
   ],
   "source": [
    "agglom.labels_"
   ]
  },
  {
   "cell_type": "code",
   "execution_count": 18,
   "metadata": {},
   "outputs": [],
   "source": [
    "df = pd.DataFrame()\n",
    "df[\"a1\"]= X[:,0]\n",
    "df[\"a2\"] = X[:,1]\n",
    "df[\"clase\"]=agglom.labels_"
   ]
  },
  {
   "cell_type": "code",
   "execution_count": 19,
   "metadata": {},
   "outputs": [
    {
     "data": {
      "image/png": "[encoded data removed]",
      "text/plain": [
       "<Figure size 576x432 with 1 Axes>"
      ]
     },
     "metadata": {
      "needs_background": "light"
     },
     "output_type": "display_data"
    }
   ],
   "source": [
    "plt.figure(figsize=(8,6))\n",
    "sns.scatterplot(df[\"a1\"],df[\"a2\"],hue = df[\"clase\"], palette=\"Set2\")\n",
    "plt.show()"
   ]
  },
  {
   "cell_type": "code",
   "execution_count": 20,
   "metadata": {},
   "outputs": [
    {
     "data": {
      "text/plain": [
       "150"
      ]
     },
     "execution_count": 20,
     "metadata": {},
     "output_type": "execute_result"
    }
   ],
   "source": [
    "agglom.n_leaves_"
   ]
  },
  {
   "cell_type": "code",
   "execution_count": null,
   "metadata": {},
   "outputs": [],
   "source": []
  }
 ],
 "metadata": {
  "kernelspec": {
   "display_name": "ctag",
   "language": "python",
   "name": "python3"
  },
  "language_info": {
   "codemirror_mode": {
    "name": "ipython",
    "version": 3
   },
   "file_extension": ".py",
   "mimetype": "text/x-python",
   "name": "python",
   "nbconvert_exporter": "python",
   "pygments_lexer": "ipython3",
   "version": "3.10.14"
  }
 },
 "nbformat": 4,
 "nbformat_minor": 4
}

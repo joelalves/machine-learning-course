{
 "cells": [
  {
   "cell_type": "code",
   "execution_count": 1,
   "metadata": {},
   "outputs": [],
   "source": [
    "import numpy as np\n",
    "import pandas as pd\n",
    "import matplotlib.pyplot as plt\n",
    "import seaborn as sns\n",
    "import pickle\n",
    "\n",
    "# Validación\n",
    "from sklearn.model_selection import KFold\n",
    "\n",
    "\n",
    "# Metricas\n",
    "from sklearn.metrics import f1_score\n",
    "from sklearn.metrics import confusion_matrix\n",
    "from sklearn.metrics import classification_report"
   ]
  },
  {
   "cell_type": "code",
   "execution_count": null,
   "metadata": {},
   "outputs": [
    {
     "data": {
      "text/html": [
       "<div>\n",
       "<style scoped>\n",
       "    .dataframe tbody tr th:only-of-type {\n",
       "        vertical-align: middle;\n",
       "    }\n",
       "\n",
       "    .dataframe tbody tr th {\n",
       "        vertical-align: top;\n",
       "    }\n",
       "\n",
       "    .dataframe thead th {\n",
       "        text-align: right;\n",
       "    }\n",
       "</style>\n",
       "<table border=\"1\" class=\"dataframe\">\n",
       "  <thead>\n",
       "    <tr style=\"text-align: right;\">\n",
       "      <th></th>\n",
       "      <th>ph</th>\n",
       "      <th>Hardness</th>\n",
       "      <th>Solids</th>\n",
       "      <th>Chloramines</th>\n",
       "      <th>Sulfate</th>\n",
       "      <th>Conductivity</th>\n",
       "      <th>Organic_carbon</th>\n",
       "      <th>Trihalomethanes</th>\n",
       "      <th>Turbidity</th>\n",
       "      <th>Potability</th>\n",
       "    </tr>\n",
       "  </thead>\n",
       "  <tbody>\n",
       "    <tr>\n",
       "      <th>0</th>\n",
       "      <td>8.661592</td>\n",
       "      <td>284.098352</td>\n",
       "      <td>27088.476460</td>\n",
       "      <td>7.897857</td>\n",
       "      <td>322.146710</td>\n",
       "      <td>512.277310</td>\n",
       "      <td>16.912142</td>\n",
       "      <td>72.465763</td>\n",
       "      <td>3.670431</td>\n",
       "      <td>0.0</td>\n",
       "    </tr>\n",
       "    <tr>\n",
       "      <th>1</th>\n",
       "      <td>7.558076</td>\n",
       "      <td>253.840904</td>\n",
       "      <td>16642.884178</td>\n",
       "      <td>11.224395</td>\n",
       "      <td>344.099289</td>\n",
       "      <td>555.932991</td>\n",
       "      <td>15.154628</td>\n",
       "      <td>81.746095</td>\n",
       "      <td>4.169005</td>\n",
       "      <td>0.0</td>\n",
       "    </tr>\n",
       "    <tr>\n",
       "      <th>2</th>\n",
       "      <td>5.622807</td>\n",
       "      <td>194.463239</td>\n",
       "      <td>16119.340190</td>\n",
       "      <td>6.907987</td>\n",
       "      <td>336.648207</td>\n",
       "      <td>408.459081</td>\n",
       "      <td>16.364724</td>\n",
       "      <td>76.631186</td>\n",
       "      <td>3.992957</td>\n",
       "      <td>0.0</td>\n",
       "    </tr>\n",
       "    <tr>\n",
       "      <th>3</th>\n",
       "      <td>5.045626</td>\n",
       "      <td>179.702503</td>\n",
       "      <td>22557.603596</td>\n",
       "      <td>10.120334</td>\n",
       "      <td>296.425154</td>\n",
       "      <td>450.295696</td>\n",
       "      <td>14.215817</td>\n",
       "      <td>82.066334</td>\n",
       "      <td>3.331787</td>\n",
       "      <td>0.0</td>\n",
       "    </tr>\n",
       "    <tr>\n",
       "      <th>4</th>\n",
       "      <td>7.709106</td>\n",
       "      <td>178.810828</td>\n",
       "      <td>18610.124152</td>\n",
       "      <td>7.734441</td>\n",
       "      <td>358.635733</td>\n",
       "      <td>462.201163</td>\n",
       "      <td>13.888704</td>\n",
       "      <td>64.841637</td>\n",
       "      <td>4.235108</td>\n",
       "      <td>0.0</td>\n",
       "    </tr>\n",
       "  </tbody>\n",
       "</table>\n",
       "</div>"
      ],
      "text/plain": [
       "         ph    Hardness        Solids  Chloramines     Sulfate  Conductivity  \\\n",
       "0  8.661592  284.098352  27088.476460     7.897857  322.146710    512.277310   \n",
       "1  7.558076  253.840904  16642.884178    11.224395  344.099289    555.932991   \n",
       "2  5.622807  194.463239  16119.340190     6.907987  336.648207    408.459081   \n",
       "3  5.045626  179.702503  22557.603596    10.120334  296.425154    450.295696   \n",
       "4  7.709106  178.810828  18610.124152     7.734441  358.635733    462.201163   \n",
       "\n",
       "   Organic_carbon  Trihalomethanes  Turbidity  Potability  \n",
       "0       16.912142        72.465763   3.670431         0.0  \n",
       "1       15.154628        81.746095   4.169005         0.0  \n",
       "2       16.364724        76.631186   3.992957         0.0  \n",
       "3       14.215817        82.066334   3.331787         0.0  \n",
       "4       13.888704        64.841637   4.235108         0.0  "
      ]
     },
     "execution_count": 2,
     "metadata": {},
     "output_type": "execute_result"
    }
   ],
   "source": [
    "df  = pd.read_csv(\"../data/water_potability_10.csv\")\n",
    "df.head()"
   ]
  },
  {
   "cell_type": "code",
   "execution_count": 3,
   "metadata": {},
   "outputs": [
    {
     "name": "stdout",
     "output_type": "stream",
     "text": [
      "<class 'pandas.core.frame.DataFrame'>\n",
      "RangeIndex: 164 entries, 0 to 163\n",
      "Data columns (total 10 columns):\n",
      " #   Column           Non-Null Count  Dtype  \n",
      "---  ------           --------------  -----  \n",
      " 0   ph               164 non-null    float64\n",
      " 1   Hardness         164 non-null    float64\n",
      " 2   Solids           164 non-null    float64\n",
      " 3   Chloramines      164 non-null    float64\n",
      " 4   Sulfate          164 non-null    float64\n",
      " 5   Conductivity     164 non-null    float64\n",
      " 6   Organic_carbon   164 non-null    float64\n",
      " 7   Trihalomethanes  164 non-null    float64\n",
      " 8   Turbidity        164 non-null    float64\n",
      " 9   Potability       164 non-null    float64\n",
      "dtypes: float64(10)\n",
      "memory usage: 12.9 KB\n"
     ]
    }
   ],
   "source": [
    "df.info()"
   ]
  },
  {
   "cell_type": "code",
   "execution_count": 4,
   "metadata": {},
   "outputs": [
    {
     "data": {
      "text/plain": [
       "0.0    100\n",
       "1.0     64\n",
       "Name: Potability, dtype: int64"
      ]
     },
     "execution_count": 4,
     "metadata": {},
     "output_type": "execute_result"
    }
   ],
   "source": [
    "df[\"Potability\"].value_counts()"
   ]
  },
  {
   "cell_type": "code",
   "execution_count": 5,
   "metadata": {},
   "outputs": [],
   "source": [
    "X = df.drop(\"Potability\",axis=1)\n",
    "y = df[\"Potability\"].values"
   ]
  },
  {
   "cell_type": "code",
   "execution_count": 6,
   "metadata": {},
   "outputs": [],
   "source": [
    "scaler = pickle.load(open(\"scaler.pkl\", 'rb'))\n",
    "X = scaler.transform(X)"
   ]
  },
  {
   "cell_type": "code",
   "execution_count": 9,
   "metadata": {},
   "outputs": [],
   "source": [
    "modelo = pickle.load(open(\"modelo_entrenado.pkl\", 'rb'))"
   ]
  },
  {
   "cell_type": "code",
   "execution_count": 10,
   "metadata": {},
   "outputs": [
    {
     "data": {
      "text/plain": [
       "ph                     8.661592\n",
       "Hardness             284.098352\n",
       "Solids             27088.476460\n",
       "Chloramines            7.897857\n",
       "Sulfate              322.146710\n",
       "Conductivity         512.277310\n",
       "Organic_carbon        16.912142\n",
       "Trihalomethanes       72.465763\n",
       "Turbidity              3.670431\n",
       "Potability             0.000000\n",
       "Name: 0, dtype: float64"
      ]
     },
     "execution_count": 10,
     "metadata": {},
     "output_type": "execute_result"
    }
   ],
   "source": [
    "df.iloc[0]"
   ]
  },
  {
   "cell_type": "code",
   "execution_count": 17,
   "metadata": {},
   "outputs": [
    {
     "data": {
      "text/plain": [
       "array([6.12386480e-01, 8.58444756e-01, 6.11189217e+03, 5.90673700e-01,\n",
       "       5.48664482e-01, 5.78453139e-01, 5.63683585e-01, 5.81913021e-01,\n",
       "       4.19820573e-01])"
      ]
     },
     "execution_count": 17,
     "metadata": {},
     "output_type": "execute_result"
    }
   ],
   "source": [
    "X[0]"
   ]
  },
  {
   "cell_type": "code",
   "execution_count": 11,
   "metadata": {},
   "outputs": [
    {
     "data": {
      "text/plain": [
       "array([1.])"
      ]
     },
     "execution_count": 11,
     "metadata": {},
     "output_type": "execute_result"
    }
   ],
   "source": [
    "modelo.predict(X[0].reshape(1,-1))"
   ]
  },
  {
   "cell_type": "code",
   "execution_count": 12,
   "metadata": {},
   "outputs": [
    {
     "data": {
      "text/plain": [
       "0.0"
      ]
     },
     "execution_count": 12,
     "metadata": {},
     "output_type": "execute_result"
    }
   ],
   "source": [
    "y[0]"
   ]
  },
  {
   "cell_type": "code",
   "execution_count": 13,
   "metadata": {},
   "outputs": [
    {
     "data": {
      "text/plain": [
       "ph                     5.622807\n",
       "Hardness             194.463239\n",
       "Solids             16119.340190\n",
       "Chloramines            6.907987\n",
       "Sulfate              336.648207\n",
       "Conductivity         408.459081\n",
       "Organic_carbon        16.364724\n",
       "Trihalomethanes       76.631186\n",
       "Turbidity              3.992957\n",
       "Potability             0.000000\n",
       "Name: 2, dtype: float64"
      ]
     },
     "execution_count": 13,
     "metadata": {},
     "output_type": "execute_result"
    }
   ],
   "source": [
    "df.iloc[2]"
   ]
  },
  {
   "cell_type": "code",
   "execution_count": 14,
   "metadata": {},
   "outputs": [
    {
     "name": "stdout",
     "output_type": "stream",
     "text": [
      "ingresa el valor de ph 5.62\n",
      "ingresa el valor de Hardness 194.46\n",
      "ingresa el valor de Solids 16119.34\n",
      "ingresa el valor de Chloramines 6.9\n",
      "ingresa el valor de Sulfate 336.64\n",
      "ingresa el valor de Conductivity 408.45\n",
      "ingresa el valor de Organic_carbon 16.36\n",
      "ingresa el valor de Trihalomethanes 76.39\n",
      "ingresa el valor de Turbidity 3.99\n"
     ]
    }
   ],
   "source": [
    "datos = []\n",
    "for i in df.columns[:-1]:\n",
    "    x = input(\"ingresa el valor de {}\".format(i))\n",
    "    datos.append(float(x))"
   ]
  },
  {
   "cell_type": "code",
   "execution_count": 15,
   "metadata": {},
   "outputs": [
    {
     "data": {
      "text/plain": [
       "[5.62, 194.46, 16119.34, 6.9, 336.64, 408.45, 16.36, 76.39, 3.99]"
      ]
     },
     "execution_count": 15,
     "metadata": {},
     "output_type": "execute_result"
    }
   ],
   "source": [
    "datos"
   ]
  },
  {
   "cell_type": "code",
   "execution_count": 16,
   "metadata": {},
   "outputs": [
    {
     "data": {
      "text/plain": [
       "array([[5.620000e+00, 1.944600e+02, 1.611934e+04, 6.900000e+00,\n",
       "        3.366400e+02, 4.084500e+02, 1.636000e+01, 7.639000e+01,\n",
       "        3.990000e+00]])"
      ]
     },
     "execution_count": 16,
     "metadata": {},
     "output_type": "execute_result"
    }
   ],
   "source": [
    "datos = np.array(datos).reshape(1,-1)\n",
    "datos"
   ]
  },
  {
   "cell_type": "code",
   "execution_count": 17,
   "metadata": {},
   "outputs": [
    {
     "data": {
      "text/plain": [
       "array([[3.91541157e-01, 5.33305283e-01, 3.63635626e+03, 5.12563601e-01,\n",
       "        5.89835017e-01, 3.96892065e-01, 5.42528736e-01, 6.13749574e-01,\n",
       "        4.80242012e-01]])"
      ]
     },
     "execution_count": 17,
     "metadata": {},
     "output_type": "execute_result"
    }
   ],
   "source": [
    "datos = scaler.transform(datos)\n",
    "datos"
   ]
  },
  {
   "cell_type": "code",
   "execution_count": 18,
   "metadata": {},
   "outputs": [
    {
     "data": {
      "text/plain": [
       "array([0.])"
      ]
     },
     "execution_count": 18,
     "metadata": {},
     "output_type": "execute_result"
    }
   ],
   "source": [
    "modelo.predict(datos)"
   ]
  },
  {
   "cell_type": "code",
   "execution_count": 19,
   "metadata": {},
   "outputs": [
    {
     "data": {
      "text/plain": [
       "0.0"
      ]
     },
     "execution_count": 19,
     "metadata": {},
     "output_type": "execute_result"
    }
   ],
   "source": [
    "y[2]"
   ]
  },
  {
   "cell_type": "code",
   "execution_count": null,
   "metadata": {},
   "outputs": [],
   "source": []
  }
 ],
 "metadata": {
  "kernelspec": {
   "display_name": "base",
   "language": "python",
   "name": "python3"
  },
  "language_info": {
   "codemirror_mode": {
    "name": "ipython",
    "version": 3
   },
   "file_extension": ".py",
   "mimetype": "text/x-python",
   "name": "python",
   "nbconvert_exporter": "python",
   "pygments_lexer": "ipython3",
   "version": "3.12.4"
  }
 },
 "nbformat": 4,
 "nbformat_minor": 4
}

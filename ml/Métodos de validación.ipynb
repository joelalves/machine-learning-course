{
 "cells": [
  {
   "cell_type": "markdown",
   "metadata": {},
   "source": [
    "# Métodos de validación, nos sirven para separar los datos de manera adecuada "
   ]
  },
  {
   "cell_type": "code",
   "execution_count": 2,
   "metadata": {},
   "outputs": [],
   "source": [
    "import pandas as pd\n",
    "import numpy as np\n",
    "from sklearn.model_selection import train_test_split\n",
    "from sklearn import neighbors\n",
    "from sklearn.metrics import accuracy_score\n",
    "from sklearn import datasets\n",
    "\n",
    "iris = datasets.load_iris()\n",
    "X = iris.data\n",
    "y = iris.target"
   ]
  },
  {
   "cell_type": "markdown",
   "metadata": {},
   "source": [
    "# Hold out "
   ]
  },
  {
   "cell_type": "code",
   "execution_count": 84,
   "metadata": {},
   "outputs": [],
   "source": [
    "lista_acc=[]\n",
    "for i in range(100):\n",
    "    X_train, X_test, y_train, y_test = train_test_split( X, y, test_size=0.3, stratify=y)\n",
    "    clf = neighbors.KNeighborsClassifier(13)\n",
    "    clf.fit(X_train, y_train)\n",
    "    yhat = clf.predict(X_test)\n",
    "    #print(\"Accuracy: \", accuracy_score(y_test,yhat))\n",
    "    lista_acc.append(accuracy_score(y_test,yhat))"
   ]
  },
  {
   "cell_type": "code",
   "execution_count": 85,
   "metadata": {},
   "outputs": [
    {
     "data": {
      "text/plain": [
       "Counter({2: 15, 1: 15, 0: 15})"
      ]
     },
     "execution_count": 85,
     "metadata": {},
     "output_type": "execute_result"
    }
   ],
   "source": [
    "from collections import Counter\n",
    "Counter(y_test)"
   ]
  },
  {
   "cell_type": "code",
   "execution_count": 86,
   "metadata": {},
   "outputs": [
    {
     "data": {
      "text/plain": [
       "0.9702222222222221"
      ]
     },
     "execution_count": 86,
     "metadata": {},
     "output_type": "execute_result"
    }
   ],
   "source": [
    "np.array(lista_acc).mean()"
   ]
  },
  {
   "cell_type": "markdown",
   "metadata": {},
   "source": [
    "# Leave one out"
   ]
  },
  {
   "cell_type": "code",
   "execution_count": 88,
   "metadata": {},
   "outputs": [
    {
     "name": "stdout",
     "output_type": "stream",
     "text": [
      "Accuracy:  0.96\n"
     ]
    }
   ],
   "source": [
    "from sklearn import neighbors\n",
    "from sklearn.model_selection import LeaveOneOut\n",
    "\n",
    "X.shape, y.shape\n",
    "\n",
    "loo = LeaveOneOut()\n",
    "yhat=[]\n",
    "cont=0\n",
    "for train_index, test_index in loo.split(X): #EL for va a realizar 150 iteraciones porq es un total de 150 patrones\n",
    "\n",
    "    X_train, X_test = X[train_index], X[test_index]    \n",
    "    y_train, y_test = y[train_index], y[test_index]\n",
    "    \n",
    "    \n",
    "    #CLASIFICADOR \n",
    "    clf = neighbors.KNeighborsClassifier(3)\n",
    "    clf.fit(X_train, y_train)\n",
    "    yhat1 = clf.predict(X_test)\n",
    "    yhat.append(yhat1)\n",
    "\n",
    "print(\"Accuracy: \", accuracy_score(y,yhat)) #Aqui para obtener el accuracy tengo que compar yhat con tooodas las \"y\""
   ]
  },
  {
   "cell_type": "markdown",
   "metadata": {},
   "source": [
    "# Kfold cross validation"
   ]
  },
  {
   "cell_type": "code",
   "execution_count": 71,
   "metadata": {},
   "outputs": [
    {
     "name": "stdout",
     "output_type": "stream",
     "text": [
      "[1.         0.93333333 1.         0.93333333 0.86666667 1.\n",
      " 0.93333333 1.         1.         1.        ]\n",
      "**************************************************\n",
      "Accuracy:  0.9666666666666666\n"
     ]
    }
   ],
   "source": [
    "from sklearn.model_selection import cross_val_score\n",
    "from sklearn.metrics import make_scorer\n",
    "\n",
    "clasificador = neighbors.KNeighborsClassifier(3)\n",
    "\n",
    "scores = cross_val_score(clasificador, X, y, cv=10, scoring = make_scorer(accuracy_score))\n",
    "print(scores)\n",
    "print(\"*****\"*10)\n",
    "print(\"Accuracy: \", scores.mean())"
   ]
  },
  {
   "cell_type": "code",
   "execution_count": null,
   "metadata": {},
   "outputs": [],
   "source": []
  }
 ],
 "metadata": {
  "kernelspec": {
   "display_name": "Python 3",
   "language": "python",
   "name": "python3"
  },
  "language_info": {
   "codemirror_mode": {
    "name": "ipython",
    "version": 3
   },
   "file_extension": ".py",
   "mimetype": "text/x-python",
   "name": "python",
   "nbconvert_exporter": "python",
   "pygments_lexer": "ipython3",
   "version": "3.9.2"
  }
 },
 "nbformat": 4,
 "nbformat_minor": 4
}

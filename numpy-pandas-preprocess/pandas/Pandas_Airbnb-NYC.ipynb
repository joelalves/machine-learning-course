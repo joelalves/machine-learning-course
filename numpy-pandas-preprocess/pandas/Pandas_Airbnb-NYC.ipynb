{
 "cells": [
  {
   "cell_type": "markdown",
   "metadata": {},
   "source": [
    "# Dataset de Airbnb NYC"
   ]
  },
  {
   "cell_type": "code",
   "execution_count": 3,
   "metadata": {},
   "outputs": [],
   "source": [
    "import pandas as pd\n",
    "import numpy as np"
   ]
  },
  {
   "cell_type": "markdown",
   "metadata": {},
   "source": [
    "### La siguiente celda  guarda cada hoja del archivo excel en un dataframe"
   ]
  },
  {
   "cell_type": "code",
   "execution_count": 7,
   "metadata": {},
   "outputs": [],
   "source": [
    "df1 = pd.read_excel(\"../../data/Airbnb_NYC.xlsx\",sheet_name = \"NYC1\")\n",
    "df2 = pd.read_excel(\"../../data/Airbnb_NYC.xlsx\",sheet_name = \"NYC2\")"
   ]
  },
  {
   "cell_type": "markdown",
   "metadata": {},
   "source": [
    "**1. Une los dos dataframe anteriores por la columna \"id\"**"
   ]
  },
  {
   "cell_type": "code",
   "execution_count": null,
   "metadata": {},
   "outputs": [],
   "source": []
  },
  {
   "cell_type": "markdown",
   "metadata": {},
   "source": [
    "**2.\t¿Si quiero hospedarme en Manhattan una sola noche y para elegir el Airbnb me guio por el que tenga el mayor número de *review* donde me debería de hospedar?**"
   ]
  },
  {
   "cell_type": "code",
   "execution_count": null,
   "metadata": {},
   "outputs": [],
   "source": []
  },
  {
   "cell_type": "markdown",
   "metadata": {},
   "source": [
    "**3.\t Busco un Airbnb en el municipio donde el precio promedio de alquiler sea el más bajo y la cantidad de *review* por mes sea el mayor. ¿Cuáles son las 3 habitaciones que mejor se adaptan a estos criterios?**"
   ]
  },
  {
   "cell_type": "code",
   "execution_count": null,
   "metadata": {},
   "outputs": [],
   "source": []
  },
  {
   "cell_type": "markdown",
   "metadata": {},
   "source": [
    "**4.\tQuiero alquilar un Airbnb completo por un total de 200 días, en Brooklyn o Manhattan; no quiero pagar más de 150 dólares por noche, ¿Cuáles son las 5 opciones más economicas que me ofrece Airbnb?**"
   ]
  },
  {
   "cell_type": "code",
   "execution_count": null,
   "metadata": {},
   "outputs": [],
   "source": []
  },
  {
   "cell_type": "markdown",
   "metadata": {},
   "source": [
    "**5.\tEn un nuevo *Dataframe* muestra por municipio: el número de habitaciones tipo individual, casa o departamento entero y compartido; también muestra en otra columna el precio promedio de todas las habitaciones por municipio.**"
   ]
  },
  {
   "cell_type": "code",
   "execution_count": null,
   "metadata": {},
   "outputs": [],
   "source": []
  },
  {
   "cell_type": "markdown",
   "metadata": {},
   "source": [
    "**6.\tCrea una nueva columna con el rating de acuerdo a la siguiente formula, donde las variables son: puntuación del municipio, número de reviews y disponibilidad de la habitación al año.**\n",
    "\n",
    "**Formula: Rating = (Puntuación de ciudad) + (número de review/ 629) + (disponibilidad / 365).**\n",
    "\n",
    "La puntuación para cada ciudad es la siguiente {\"Manhattan\":10/10,\"Brooklyn\":8/10,\"Queens\":6/10,\"Staten Island\":4/10,\"Bronx\":2/10}."
   ]
  },
  {
   "cell_type": "code",
   "execution_count": null,
   "metadata": {},
   "outputs": [],
   "source": []
  },
  {
   "cell_type": "code",
   "execution_count": 13,
   "metadata": {},
   "outputs": [],
   "source": []
  },
  {
   "cell_type": "code",
   "execution_count": null,
   "metadata": {},
   "outputs": [],
   "source": []
  },
  {
   "cell_type": "markdown",
   "metadata": {},
   "source": [
    "**7. Encuentra las 5 habitaciones de cada municipio con mayor rating**"
   ]
  },
  {
   "cell_type": "code",
   "execution_count": null,
   "metadata": {},
   "outputs": [],
   "source": []
  },
  {
   "cell_type": "markdown",
   "metadata": {},
   "source": [
    "**8. Crea un dataframe con la cantidad de reviews de cada municipio de acuerdo a tipo de habitación**"
   ]
  },
  {
   "cell_type": "code",
   "execution_count": null,
   "metadata": {},
   "outputs": [],
   "source": []
  },
  {
   "cell_type": "markdown",
   "metadata": {},
   "source": [
    "**9. Encuentra los 10 barrios con mayor precio por habitación individual**"
   ]
  },
  {
   "cell_type": "code",
   "execution_count": null,
   "metadata": {},
   "outputs": [],
   "source": []
  },
  {
   "cell_type": "markdown",
   "metadata": {},
   "source": [
    "**10. Encuentra el barrio con mejor rating de cada municipio y después seleccionar los 2 barrios con el menor precio por \"dep/casa completo\".**"
   ]
  },
  {
   "cell_type": "code",
   "execution_count": null,
   "metadata": {},
   "outputs": [],
   "source": []
  }
 ],
 "metadata": {
  "kernelspec": {
   "display_name": "base",
   "language": "python",
   "name": "python3"
  },
  "language_info": {
   "codemirror_mode": {
    "name": "ipython",
    "version": 3
   },
   "file_extension": ".py",
   "mimetype": "text/x-python",
   "name": "python",
   "nbconvert_exporter": "python",
   "pygments_lexer": "ipython3",
   "version": "3.12.4"
  }
 },
 "nbformat": 4,
 "nbformat_minor": 4
}
